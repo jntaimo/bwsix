{
    "cells": [
        {
            "cell_type": "code",
            "execution_count": 1,
            "source": [
                "import pandas as pd\r\n",
                "import numpy as np"
            ],
            "outputs": [],
            "metadata": {}
        },
        {
            "cell_type": "code",
            "execution_count": 2,
            "source": [
                "imu_data = pd.read_csv(\"clean_data.csv\")\r\n"
            ],
            "outputs": [],
            "metadata": {}
        },
        {
            "cell_type": "markdown",
            "source": [
                "**Question 1**  \r\n",
                "Average vertical acceleration:"
            ],
            "metadata": {}
        },
        {
            "cell_type": "code",
            "execution_count": 3,
            "source": [
                "vert_accel = imu_data[\"Accel-Z\"]\r\n",
                "print(vert_accel.mean())"
            ],
            "outputs": [
                {
                    "output_type": "stream",
                    "name": "stdout",
                    "text": [
                        "9.743679279894787\n"
                    ]
                }
            ],
            "metadata": {}
        },
        {
            "cell_type": "markdown",
            "source": [
                "**Question 2**  \r\n",
                "Median vertical acceleration:"
            ],
            "metadata": {}
        },
        {
            "cell_type": "code",
            "execution_count": 4,
            "source": [
                "print(vert_accel.median())"
            ],
            "outputs": [
                {
                    "output_type": "stream",
                    "name": "stdout",
                    "text": [
                        "9.720214451623715\n"
                    ]
                }
            ],
            "metadata": {}
        },
        {
            "cell_type": "markdown",
            "source": [
                "**Question 3**  \r\n",
                "Mean of the acceleration vector magnitude"
            ],
            "metadata": {}
        },
        {
            "cell_type": "code",
            "execution_count": 5,
            "source": [
                "mean_x = imu_data[\"Accel-X\"].mean()\r\n",
                "mean_y = imu_data[\"Accel-Y\"].mean()\r\n",
                "mean_z = imu_data[\"Accel-Z\"].mean()\r\n",
                "print(\"Mean X:\", mean_x)\r\n",
                "print(\"Mean Y:\", mean_y)\r\n",
                "print(\"Mean Z:\", mean_z)\r\n",
                "\r\n",
                "print(\"Accel Mean\", np.sqrt(np.square(mean_x) + np.square(mean_y) + np.square(mean_z)))\r\n",
                "\r\n",
                "#same result as above\r\n",
                "print(np.linalg.norm(imu_data[[\"Accel-X\", \"Accel-Y\", \"Accel-Z\"]].mean()))\r\n"
            ],
            "outputs": [
                {
                    "output_type": "stream",
                    "name": "stdout",
                    "text": [
                        "Mean X: -0.11299848687986037\n",
                        "Mean Y: -0.18605136598427996\n",
                        "Mean Z: 9.743679279894787\n",
                        "Accel Mean 9.746110489742703\n",
                        "9.746110489742703\n"
                    ]
                }
            ],
            "metadata": {}
        },
        {
            "cell_type": "markdown",
            "source": [
                "**Question 4**  \r\n",
                "The median of the acceleration vector magnitude"
            ],
            "metadata": {}
        },
        {
            "cell_type": "code",
            "execution_count": 6,
            "source": [
                "print(np.linalg.norm(imu_data[[\"Accel-X\", \"Accel-Y\", \"Accel-Z\"]].median()))"
            ],
            "outputs": [
                {
                    "output_type": "stream",
                    "name": "stdout",
                    "text": [
                        "9.721328048631616\n"
                    ]
                }
            ],
            "metadata": {}
        },
        {
            "cell_type": "markdown",
            "source": [
                "**Question 5**  \r\n",
                "Mean tilt  \r\n",
                "Method from <https://stackoverflow.com/questions/2827393/angles-between-two-n-dimensional-vectors-in-python>"
            ],
            "metadata": {}
        },
        {
            "cell_type": "code",
            "execution_count": 7,
            "source": [
                "\r\n",
                "def unit_vector(vector):\r\n",
                "    return vector / np.linalg.norm(vector)\r\n",
                "\r\n",
                "def angle_between(v1, v2):\r\n",
                "    v1_u = unit_vector(v1)\r\n",
                "    v2_u = unit_vector(v2)\r\n",
                "    return np.arccos(np.clip(np.dot(v1_u, v2_u), -1.0, 1.0))\r\n"
            ],
            "outputs": [],
            "metadata": {}
        },
        {
            "cell_type": "code",
            "execution_count": 18,
            "source": [
                "real_down = np.array([0,0,1])\r\n",
                "imu_down_mean = imu_data[[\"Accel-X\", \"Accel-Y\", \"Accel-Z\"]].mean()\r\n",
                "print(\"Mean tilt:\", np.round(np.degrees(angle_between(imu_down_mean, real_down)), 4), \"degrees\")\r\n"
            ],
            "outputs": [
                {
                    "output_type": "stream",
                    "name": "stdout",
                    "text": [
                        "Mean tilt: 1.2798 degrees\n"
                    ]
                }
            ],
            "metadata": {}
        },
        {
            "cell_type": "markdown",
            "source": [
                "**Question 6**\r\n",
                "Median tilt:\r\n"
            ],
            "metadata": {}
        },
        {
            "cell_type": "code",
            "execution_count": 19,
            "source": [
                "imu_down_median = imu_data[[\"Accel-X\", \"Accel-Y\", \"Accel-Z\"]].median()\r\n",
                "print(\"Median tilt:\", np.round(np.degrees(angle_between(imu_down_median, real_down)), 3), \"degrees\")"
            ],
            "outputs": [
                {
                    "output_type": "stream",
                    "name": "stdout",
                    "text": [
                        "Median tilt: 0.867 degrees\n"
                    ]
                }
            ],
            "metadata": {}
        },
        {
            "cell_type": "markdown",
            "source": [
                "**Question 7**  \r\n",
                "Velocity calculation"
            ],
            "metadata": {}
        },
        {
            "cell_type": "code",
            "execution_count": 25,
            "source": [],
            "outputs": [
                {
                    "output_type": "execute_result",
                    "data": {
                        "text/plain": [
                            "0.9709082776674528"
                        ]
                    },
                    "metadata": {},
                    "execution_count": 25
                }
            ],
            "metadata": {}
        }
    ],
    "metadata": {
        "orig_nbformat": 4,
        "language_info": {
            "name": "python"
        }
    },
    "nbformat": 4,
    "nbformat_minor": 2
}